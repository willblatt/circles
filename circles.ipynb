{
 "cells": [
  {
   "cell_type": "code",
   "execution_count": 9,
   "metadata": {
    "collapsed": true
   },
   "outputs": [],
   "source": [
    "%matplotlib inline"
   ]
  },
  {
   "cell_type": "code",
   "execution_count": 10,
   "metadata": {
    "collapsed": true
   },
   "outputs": [],
   "source": [
    "import math\n",
    "import numpy as np\n",
    "import scipy.linalg as la\n",
    "\n",
    "\n",
    "class Circle(object):\n",
    "\n",
    "    def __init__(self, r=1.0, x=0, y=0):\n",
    "        \"\"\"Simple ellispe type\n",
    "        \n",
    "        Parameters\n",
    "        ----------\n",
    "        r : float\n",
    "            Radius\n",
    "        x, y : float, float\n",
    "            Center coordinates.\n",
    "        \"\"\"\n",
    "\n",
    "        \n",
    "        self.r = float(r)\n",
    "\n",
    "        if self.r <= 0:\n",
    "            raise ValueError('Circle must have a radius > 0')\n",
    "        \n",
    "        self.x = float(x)\n",
    "        self.y = float(y)\n",
    "\n",
    "    def point(self, t):\n",
    "        \"\"\"Evaluate point on the ellipse at a give t value\n",
    "        \n",
    "        Parameters\n",
    "        ----------\n",
    "        t : float\n",
    "            Value around ellipse, measure from 0 to 2Π\n",
    "        \"\"\"\n",
    "        \n",
    "        x = self.r * math.cos(t) + self.x\n",
    "        y = self.r * math.sin(t) + self.y\n",
    "        return x, y\n",
    "\n",
    "    def fit(self, points):\n",
    "        pnts = np.array(points)\n",
    "\n",
    "        # Direct fit, only 3 points\n",
    "        if len(pnts) == 3:\n",
    "            x0, y0 = pnts[0]\n",
    "            x1, y1 = pnts[0]\n",
    "            x2, y2 = pnts[0]\n",
    "\n",
    "            A = [[x0**2 + y0**2, y0, 1],\n",
    "                 [x1**2 + y1**2, y1, 1],\n",
    "                 [x2**2 + y2**2, y2, 1]]\n",
    "\n",
    "            B = [[x0, x0**2 + y0**2, 1],\n",
    "                 [x1, x1**2 + y1**2, 1],\n",
    "                 [x2, x2**2 + y2**2, 1]]\n",
    "\n",
    "            C = [[x0, y0, 1],\n",
    "                 [x1, y1, 1],\n",
    "                 [x2, y2, 1]]\n",
    "\n",
    "            cx = la.det(A) / (2.0 * la.det(C))\n",
    "            cy = la.det(B) / (2.0 * la.det(C))\n",
    "            r = ((x1-h)**2.0 + (y1-k)**2.0)**0.5\n",
    "\n",
    "            return Circle(r, cx, cy)\n",
    "\n",
    "        # Least squares fit\n",
    "        elif len(pnts) > 3:\n",
    "            xs = pnts[:,0]\n",
    "            ys = pnts[:,1]\n",
    "            zs = np.ones_like(xs)\n",
    "\n",
    "            a = np.column_stack((xs, ys, zs))\n",
    "            b = -1 * (xs**2 + ys**2)\n",
    "            \n",
    "            c = la.lstsq(a, b)\n",
    "            print(c[0])\n",
    "            print(c[0])\n",
    "            \n",
    "            self.r = math.sqrt((c[0][0]**2.0 + c[1][0]**2.0) / 4.0 - c[2][0])\n",
    "            self.x = -0.5*c[0][0]\n",
    "            self.y = -0.5*c[1][0]\n",
    "\n",
    "        else:\n",
    "            raise ValueError(\"Not enough points to fit a circle\")"
   ]
  },
  {
   "cell_type": "code",
   "execution_count": 11,
   "metadata": {
    "collapsed": false
   },
   "outputs": [
    {
     "ename": "IndexError",
     "evalue": "invalid index to scalar variable.",
     "output_type": "error",
     "traceback": [
      "\u001b[1;31m---------------------------------------------------------------------------\u001b[0m",
      "\u001b[1;31mIndexError\u001b[0m                                Traceback (most recent call last)",
      "\u001b[1;32m<ipython-input-11-63bd6bbff358>\u001b[0m in \u001b[0;36m<module>\u001b[1;34m()\u001b[0m\n\u001b[0;32m      8\u001b[0m \u001b[1;31m# Fit circle to the noisey points\u001b[0m\u001b[1;33m\u001b[0m\u001b[1;33m\u001b[0m\u001b[0m\n\u001b[0;32m      9\u001b[0m \u001b[0mc0\u001b[0m \u001b[1;33m=\u001b[0m \u001b[0mCircle\u001b[0m\u001b[1;33m(\u001b[0m\u001b[1;33m)\u001b[0m\u001b[1;33m\u001b[0m\u001b[0m\n\u001b[1;32m---> 10\u001b[1;33m \u001b[0mc0\u001b[0m\u001b[1;33m.\u001b[0m\u001b[0mfit\u001b[0m\u001b[1;33m(\u001b[0m\u001b[0mnoise_pnts\u001b[0m\u001b[1;33m)\u001b[0m\u001b[1;33m\u001b[0m\u001b[0m\n\u001b[0m\u001b[0;32m     11\u001b[0m \u001b[1;33m\u001b[0m\u001b[0m\n\u001b[0;32m     12\u001b[0m \u001b[1;31m# Plot comparison\u001b[0m\u001b[1;33m\u001b[0m\u001b[1;33m\u001b[0m\u001b[0m\n",
      "\u001b[1;32m<ipython-input-10-485ab7252144>\u001b[0m in \u001b[0;36mfit\u001b[1;34m(self, points)\u001b[0m\n\u001b[0;32m     77\u001b[0m             \u001b[0mc\u001b[0m \u001b[1;33m=\u001b[0m \u001b[0mla\u001b[0m\u001b[1;33m.\u001b[0m\u001b[0mlstsq\u001b[0m\u001b[1;33m(\u001b[0m\u001b[0ma\u001b[0m\u001b[1;33m,\u001b[0m \u001b[0mb\u001b[0m\u001b[1;33m)\u001b[0m\u001b[1;33m\u001b[0m\u001b[0m\n\u001b[0;32m     78\u001b[0m \u001b[1;33m\u001b[0m\u001b[0m\n\u001b[1;32m---> 79\u001b[1;33m             \u001b[0mself\u001b[0m\u001b[1;33m.\u001b[0m\u001b[0mr\u001b[0m \u001b[1;33m=\u001b[0m \u001b[0mmath\u001b[0m\u001b[1;33m.\u001b[0m\u001b[0msqrt\u001b[0m\u001b[1;33m(\u001b[0m\u001b[1;33m(\u001b[0m\u001b[0mc\u001b[0m\u001b[1;33m[\u001b[0m\u001b[1;36m0\u001b[0m\u001b[1;33m]\u001b[0m\u001b[1;33m[\u001b[0m\u001b[1;36m0\u001b[0m\u001b[1;33m]\u001b[0m\u001b[1;33m**\u001b[0m\u001b[1;36m2.0\u001b[0m \u001b[1;33m+\u001b[0m \u001b[0mc\u001b[0m\u001b[1;33m[\u001b[0m\u001b[1;36m1\u001b[0m\u001b[1;33m]\u001b[0m\u001b[1;33m[\u001b[0m\u001b[1;36m0\u001b[0m\u001b[1;33m]\u001b[0m\u001b[1;33m**\u001b[0m\u001b[1;36m2.0\u001b[0m\u001b[1;33m)\u001b[0m \u001b[1;33m/\u001b[0m \u001b[1;36m4.0\u001b[0m \u001b[1;33m-\u001b[0m \u001b[0mc\u001b[0m\u001b[1;33m[\u001b[0m\u001b[1;36m2\u001b[0m\u001b[1;33m]\u001b[0m\u001b[1;33m[\u001b[0m\u001b[1;36m0\u001b[0m\u001b[1;33m]\u001b[0m\u001b[1;33m)\u001b[0m\u001b[1;33m\u001b[0m\u001b[0m\n\u001b[0m\u001b[0;32m     80\u001b[0m             \u001b[0mself\u001b[0m\u001b[1;33m.\u001b[0m\u001b[0mx\u001b[0m \u001b[1;33m=\u001b[0m \u001b[1;33m-\u001b[0m\u001b[1;36m0.5\u001b[0m\u001b[1;33m*\u001b[0m\u001b[0mc\u001b[0m\u001b[1;33m[\u001b[0m\u001b[1;36m0\u001b[0m\u001b[1;33m]\u001b[0m\u001b[1;33m[\u001b[0m\u001b[1;36m0\u001b[0m\u001b[1;33m]\u001b[0m\u001b[1;33m\u001b[0m\u001b[0m\n\u001b[0;32m     81\u001b[0m             \u001b[0mself\u001b[0m\u001b[1;33m.\u001b[0m\u001b[0my\u001b[0m \u001b[1;33m=\u001b[0m \u001b[1;33m-\u001b[0m\u001b[1;36m0.5\u001b[0m\u001b[1;33m*\u001b[0m\u001b[0mc\u001b[0m\u001b[1;33m[\u001b[0m\u001b[1;36m1\u001b[0m\u001b[1;33m]\u001b[0m\u001b[1;33m[\u001b[0m\u001b[1;36m0\u001b[0m\u001b[1;33m]\u001b[0m\u001b[1;33m\u001b[0m\u001b[0m\n",
      "\u001b[1;31mIndexError\u001b[0m: invalid index to scalar variable."
     ]
    }
   ],
   "source": [
    "# Make a circle\n",
    "c = Circle(2, -3, -4)\n",
    "ts = np.linspace(0.0, 2 * np.pi, 100)\n",
    "\n",
    "# Sample from it and add some noise\n",
    "noise_pnts = np.array([c.point(t) for t in ts]) + \\\n",
    "             0.0001*np.random.rand(100, 2)\n",
    "\n",
    "# Fit circle to the noisey points\n",
    "c0 = Circle()\n",
    "c0.fit(noise_pnts)\n",
    "\n",
    "# Plot comparison\n",
    "plt.plot([p[0] for p in noise_pnts], [p[1] for p in noise_pnts], 'r.')\n",
    "plt.plot([p[0] for p in pnts0], [p[1] for p in pnts0], 'b-')\n",
    "plt.show()\n",
    "\n",
    "pnts0 = [c0.point(t) for t in ts]\n",
    "print(\"{0:>5} {1:>8} {2:>8}\".format(' ', 'orig', 'fitted'))\n",
    "print(\"{0:>5} {1:>8.3f} {2:>8.3f}\".format('r', c.r, c0.r))\n",
    "print(\"{0:>5} {1:>8.3f} {2:>8.3f}\".format('x', c.x, c0.x))\n",
    "print(\"{0:>5} {1:>8.3f} {2:>8.3f}\".format('y', c.y, c0.y))\n",
    "\n",
    "# Fit a new circle to 3 points\n",
    "pnts3 = np.array([c.point(t) for t in np.linspace(0.0, 2 * np.pi, 3)])\n",
    "c1 = Circle()\n",
    "c1.fit(pnts3)\n",
    "pnts1 = [c1.point(t) for t in ts]\n",
    "\n",
    "# Plot comparison\n",
    "plt.plot([p[0] for p in pnts3], [p[1] for p in pnts3], 'r.')\n",
    "plt.plot([p[0] for p in pnts1], [p[1] for p in pnts1], 'b-')\n",
    "plt.show()\n"
   ]
  },
  {
   "cell_type": "code",
   "execution_count": null,
   "metadata": {
    "collapsed": true
   },
   "outputs": [],
   "source": []
  },
  {
   "cell_type": "code",
   "execution_count": null,
   "metadata": {
    "collapsed": true
   },
   "outputs": [],
   "source": []
  }
 ],
 "metadata": {
  "kernelspec": {
   "display_name": "Python 3",
   "language": "python",
   "name": "python3"
  },
  "language_info": {
   "codemirror_mode": {
    "name": "ipython",
    "version": 3
   },
   "file_extension": ".py",
   "mimetype": "text/x-python",
   "name": "python",
   "nbconvert_exporter": "python",
   "pygments_lexer": "ipython3",
   "version": "3.3.5"
  }
 },
 "nbformat": 4,
 "nbformat_minor": 0
}
